{
 "cells": [
  {
   "cell_type": "code",
   "execution_count": 2,
   "metadata": {},
   "outputs": [],
   "source": [
    "from datetime import datetime, timedelta\n",
    "import pandas as pd\n",
    "import xgboost as xgb\n",
    "from statsmodels.tools.eval_measures import mse, rmse\n",
    "from sklearn.metrics import r2_score, mean_absolute_error\n",
    "import numpy as np\n",
    "from sklearn.model_selection import cross_val_predict\n",
    "\n",
    "from app.services.dataframe_service import get_technical_data_as_dataframe, get_data_as_dataframe"
   ]
  },
  {
   "cell_type": "code",
   "execution_count": 12,
   "metadata": {},
   "outputs": [],
   "source": [
    "today = datetime.today().strftime(\"%Y-%m-%d\")\n",
    "\n",
    "top_50_stock = [\"AEFES\", \"AKBNK\", \"AKSA\", \"AKSEN\", \"ALARK\", \"ARCLK\", \"ASELS\", \"BERA\", \"BIMAS\", \"DOHOL\",\n",
    "                \"EGEEN\", \"EKGYO\", \"ENJSA\", \"ENKAI\", \"EREGL\", \"FROTO\", \"GARAN\", \"GESAN\", \"GUBRF\",\n",
    "                \"HALKB\", \"HEKTS\", \"ISCTR\", \"ISGYO\", \"KCHOL\", \"KONTR\", \"KORDS\", \"KOZAA\", \"KOZAA\",\n",
    "                \"KOZAL\", \"KRDMD\", \"MGROS\", \"ODAS\", \"OYAKC\", \"PETKM\", \"PGSUS\", \"SAHOL\", \"SASA\",\n",
    "                \"SISE\", \"SMRTG\", \"SOKM\", \"TAVHL\", \"TCELL\", \"THYAO\", \"TKFEN\", \"TOASO\", \"TSKB\",\n",
    "                \"TTKOM\", \"TUPRS\", \"VAKBN\", \"VESTL\", \"YKBNK\"]\n",
    "\n",
    "top_1_stock = [\"THYAO\"]\n",
    "\n",
    "for stock_symbol in top_1_stock:\n",
    "    data_technical_info = get_technical_data_as_dataframe(schema_name=\"technical\", table_name=stock_symbol)\n",
    "    data_basic_info = get_data_as_dataframe(schema_name=\"public\", table_name=stock_symbol)"
   ]
  },
  {
   "cell_type": "code",
   "execution_count": 13,
   "metadata": {},
   "outputs": [],
   "source": [
    "data_df = data_technical_info.merge(data_basic_info, on=\"date\", how=\"left\")\n",
    "data_df[\"percentage\"] = data_df[\"percentage\"].shift(-1)\n",
    "data_df = data_df.dropna()"
   ]
  },
  {
   "cell_type": "code",
   "execution_count": 14,
   "metadata": {},
   "outputs": [],
   "source": [
    "selected_columns = [\"date\", \"RSI_14\", \"STOCH_Interpretation\", \"STOCHRSI_Interpretation\", \"MACD_Interpretation\", \"ADX_Return\", \"WILLR_14\", \n",
    "                    \"CCI_14_0.015\", \"Percentage_ATR\", \"HL_Ratio_14\",\n",
    "                    \"UO_7_14_28\", \"ROC_14\", \"Bull_Power_13\", \"Bear_Power_13\", \"SMA_5_Interpretation\", \"SMA_10_Interpretation\",\n",
    "                    \"SMA_20_Interpretation\", \"SMA_50_Interpretation\",\n",
    "                    \"EMA_5_Interpretation\", \"EMA_10_Interpretation\", \"EMA_20_Interpretation\", \"EMA_50_Interpretation\",\n",
    "                    \"Classic_Pivot_Interpretation\", \"Fibonacci_Pivot_Interpretation\",\n",
    "                    \"Camarilla_Pivot_Interpretation\", \"Woodie_Pivot_Interpretation\", \"Demark_Pivot_Interpretation\", \"percentage\"]\n",
    "\n",
    "data = data_df[selected_columns]\n"
   ]
  },
  {
   "cell_type": "code",
   "execution_count": 15,
   "metadata": {},
   "outputs": [
    {
     "name": "stderr",
     "output_type": "stream",
     "text": [
      "C:\\Users\\Berkay\\AppData\\Local\\Temp\\ipykernel_2428\\1853979273.py:11: SettingWithCopyWarning: \n",
      "A value is trying to be set on a copy of a slice from a DataFrame.\n",
      "Try using .loc[row_indexer,col_indexer] = value instead\n",
      "\n",
      "See the caveats in the documentation: https://pandas.pydata.org/pandas-docs/stable/user_guide/indexing.html#returning-a-view-versus-a-copy\n",
      "  data[column] = data[column].astype(int)\n",
      "C:\\Users\\Berkay\\AppData\\Local\\Temp\\ipykernel_2428\\1853979273.py:11: SettingWithCopyWarning: \n",
      "A value is trying to be set on a copy of a slice from a DataFrame.\n",
      "Try using .loc[row_indexer,col_indexer] = value instead\n",
      "\n",
      "See the caveats in the documentation: https://pandas.pydata.org/pandas-docs/stable/user_guide/indexing.html#returning-a-view-versus-a-copy\n",
      "  data[column] = data[column].astype(int)\n",
      "C:\\Users\\Berkay\\AppData\\Local\\Temp\\ipykernel_2428\\1853979273.py:11: SettingWithCopyWarning: \n",
      "A value is trying to be set on a copy of a slice from a DataFrame.\n",
      "Try using .loc[row_indexer,col_indexer] = value instead\n",
      "\n",
      "See the caveats in the documentation: https://pandas.pydata.org/pandas-docs/stable/user_guide/indexing.html#returning-a-view-versus-a-copy\n",
      "  data[column] = data[column].astype(int)\n"
     ]
    }
   ],
   "source": [
    "categoric_interpretation_columns = [\"STOCH_Interpretation\", \"STOCHRSI_Interpretation\", \"MACD_Interpretation\"]\n",
    "categoric_mapping = {\n",
    "    \"Güçlü Sat\": 1,\n",
    "    \"Sat\": 2,\n",
    "    \"Nötr\": 3,\n",
    "    \"Al\": 4,\n",
    "    \"Güçlü Al\": 5\n",
    "}\n",
    "for column in categoric_interpretation_columns:\n",
    "    data.loc[:, column] = data[column].map(categoric_mapping)\n",
    "    data[column] = data[column].astype(int)"
   ]
  },
  {
   "cell_type": "code",
   "execution_count": 17,
   "metadata": {},
   "outputs": [],
   "source": [
    "def model_evaluation(models, X, y):\n",
    "    for i, v in models:\n",
    "        #prediction = cross_val_predict(v, X, y, cv=2)\n",
    "        prediction = v.predict(X)\n",
    "        r2 = r2_score(y, prediction)\n",
    "        n = X.shape[0]  # örnek sayısı\n",
    "        p = X.shape[1]  # özellik sayısı\n",
    "        adjusted_r2 = 1 - (1 - r2) * (n - 1) / (n - p - 1)\n",
    "\n",
    "        print(f\"----------------------------- {i} Model Evaluation -----------------------------\")\n",
    "        print(\"R-Kare değeri                     : {}\".format(r2))\n",
    "        print(\"Adj. R-Kare değeri                : {}\".format(adjusted_r2))\n",
    "        print(\"Ortalama Mutlak Hata (MAE)        : {}\".format(mean_absolute_error(y, prediction)))\n",
    "        print(\"Ortalama Kare Hata (MSE)          : {}\".format(mse(y, prediction)))\n",
    "        print(\"Kök Ortalama Kare Hata (RMSE)     : {}\".format(rmse(y, prediction)))"
   ]
  },
  {
   "cell_type": "code",
   "execution_count": 18,
   "metadata": {},
   "outputs": [
    {
     "name": "stdout",
     "output_type": "stream",
     "text": [
      "----------------------------- XGBOOST Model Evaluation -----------------------------\n",
      "R-Kare değeri                     : -0.053158533042521716\n",
      "Adj. R-Kare değeri                : -0.39120942019197313\n",
      "Ortalama Mutlak Hata (MAE)        : 2.736998784032449\n",
      "Ortalama Kare Hata (MSE)          : 13.784827351251717\n",
      "Kök Ortalama Kare Hata (RMSE)     : 3.712792392694711\n"
     ]
    },
    {
     "name": "stderr",
     "output_type": "stream",
     "text": [
      "C:\\Users\\Berkay\\AppData\\Local\\Temp\\ipykernel_2428\\2987205188.py:16: SettingWithCopyWarning: \n",
      "A value is trying to be set on a copy of a slice from a DataFrame.\n",
      "Try using .loc[row_indexer,col_indexer] = value instead\n",
      "\n",
      "See the caveats in the documentation: https://pandas.pydata.org/pandas-docs/stable/user_guide/indexing.html#returning-a-view-versus-a-copy\n",
      "  data[\"predictions\"] = predictions\n"
     ]
    }
   ],
   "source": [
    "from sklearn.model_selection import train_test_split\n",
    "\n",
    "\n",
    "y = data[\"percentage\"]\n",
    "X = data.drop([\"date\", \"percentage\"], axis=1)\n",
    "\n",
    "#X_train, X_test, y_train, y_test = X.iloc[:-100, :], X.iloc[-100:, :], y[:-100], y[-100:]\n",
    "X_train, X_test, y_train, y_test = train_test_split(X, y, test_size=0.2)\n",
    "xgb_clf = xgb.XGBRegressor()\n",
    "xgb_clf.fit(X_train, y_train)\n",
    "models = []\n",
    "models.append(('XGBOOST', xgb_clf))\n",
    "model_evaluation(models, X_test, y_test)\n",
    "\n",
    "predictions = xgb_clf.predict(X)\n",
    "data[\"predictions\"] = predictions"
   ]
  },
  {
   "cell_type": "code",
   "execution_count": null,
   "metadata": {},
   "outputs": [],
   "source": [
    "def strategy(data):\n",
    "    BUDGET = 10000\n",
    "    stocks = 0\n",
    "    # İşaret değişimlerini ve ilgili tarihleri saklamak için boş bir liste oluşturma\n",
    "    sign_changes = []\n",
    "    data = data.reset_index()\n",
    "    # İlk satırdan başlayarak her satırı kontrol etme\n",
    "    for i in range(1, len(data)):\n",
    "        try:\n",
    "            current_pred = data.loc[i, 'predictions']\n",
    "            previous_pred = data.loc[i - 1, 'predictions']\n",
    "            \n",
    "            # İşaret değişimi kontrolü\n",
    "            if (current_pred > 0 and previous_pred < 0) or (current_pred < 0 and previous_pred > 0):\n",
    "                date = data.loc[i, 'date']\n",
    "                change_type = 'Negatiften Pozitife' if current_pred > 0 else 'Pozitiften Negatife'\n",
    "                real_date = date + timedelta(days=1)\n",
    "                open_value = data.loc[i+1, 'open']\n",
    "\n",
    "                if change_type == 'Negatiften Pozitife':\n",
    "                    stocks_to_buy = BUDGET // open_value\n",
    "                    stocks += stocks_to_buy\n",
    "                    BUDGET -= stocks_to_buy * open_value\n",
    "\n",
    "                elif change_type == 'Pozitiften Negatife':\n",
    "                    BUDGET += stocks * open_value\n",
    "                    stocks = 0\n",
    "\n",
    "                sign_changes.append((date, change_type, real_date, open_value, BUDGET, stocks))\n",
    "        except:\n",
    "            pass\n",
    "\n",
    "    # İşaret değişimlerini ve ilgili tarihleri yazdırma\n",
    "    for change in sign_changes:\n",
    "        print(f\"Tarih: {change[0]}, İşaret Değişimi: {change[1]}, Alınması yada satılması gereken tarih(Sabah): {change[2]}, Açılış Değeri: {change[3]}, Bütçe: {change[4]}, Hisseler: {change[5]}\")\n",
    "\n",
    "    return sign_changes[-1][4] + sign_changes[-1][5] * sign_changes[-1][3]\n",
    "\n",
    "\n",
    "predictions = xgb_clf.predict(X)\n",
    "data_df[\"predictions\"] = predictions\n",
    "\n",
    "BUDGET = strategy(data_df.iloc[-100:, :])\n",
    "print(BUDGET)\n"
   ]
  },
  {
   "cell_type": "code",
   "execution_count": 47,
   "metadata": {},
   "outputs": [],
   "source": [
    "observation = data[[\"date\", \"percentage\", \"predictions\"]].iloc[-100:,:]"
   ]
  },
  {
   "cell_type": "code",
   "execution_count": 19,
   "metadata": {},
   "outputs": [],
   "source": [
    "import pickle\n",
    "\n",
    "filename = './app/ml_models/test.pkl'\n",
    "pickle.dump(xgb_clf, open(filename, 'wb'))"
   ]
  },
  {
   "cell_type": "code",
   "execution_count": 20,
   "metadata": {},
   "outputs": [
    {
     "name": "stdout",
     "output_type": "stream",
     "text": [
      "RSI_14, STOCH_Interpretation, STOCHRSI_Interpretation, MACD_Interpretation, ADX_Return, WILLR_14, CCI_14_0.015, Percentage_ATR, HL_Ratio_14, UO_7_14_28, ROC_14, Bull_Power_13, Bear_Power_13, SMA_5_Interpretation, SMA_10_Interpretation, SMA_20_Interpretation, SMA_50_Interpretation, EMA_5_Interpretation, EMA_10_Interpretation, EMA_20_Interpretation, EMA_50_Interpretation, Classic_Pivot_Interpretation, Fibonacci_Pivot_Interpretation, Camarilla_Pivot_Interpretation, Woodie_Pivot_Interpretation, Demark_Pivot_Interpretation, "
     ]
    }
   ],
   "source": [
    "for i in X.columns.values:\n",
    "    print(i, end=\", \")"
   ]
  }
 ],
 "metadata": {
  "kernelspec": {
   "display_name": "finance",
   "language": "python",
   "name": "python3"
  },
  "language_info": {
   "codemirror_mode": {
    "name": "ipython",
    "version": 3
   },
   "file_extension": ".py",
   "mimetype": "text/x-python",
   "name": "python",
   "nbconvert_exporter": "python",
   "pygments_lexer": "ipython3",
   "version": "3.8.16"
  },
  "orig_nbformat": 4
 },
 "nbformat": 4,
 "nbformat_minor": 2
}
