{
 "cells": [
  {
   "cell_type": "code",
   "execution_count": 58,
   "metadata": {},
   "outputs": [],
   "source": [
    "from datetime import datetime, timedelta\n",
    "import pandas as pd\n",
    "import xgboost as xgb\n",
    "from statsmodels.tools.eval_measures import mse, rmse\n",
    "from sklearn.metrics import r2_score, mean_absolute_error\n",
    "import numpy as np\n",
    "from sklearn.model_selection import cross_val_predict\n",
    "\n",
    "from app.services.dataframe_service import get_technical_data_as_dataframe, get_data_as_dataframe\n",
    "import warnings\n",
    "warnings.filterwarnings('ignore')"
   ]
  },
  {
   "cell_type": "code",
   "execution_count": 55,
   "metadata": {},
   "outputs": [],
   "source": [
    "top_50_stock = [\"AEFES\", \"AKBNK\", \"AKSA\", \"AKSEN\", \"ALARK\", \"ARCLK\", \"ASELS\", \"BERA\", \"BIMAS\", \"DOHOL\",\n",
    "                \"EGEEN\", \"EKGYO\", \"ENJSA\", \"ENKAI\", \"EREGL\", \"FROTO\", \"GARAN\", \"GESAN\", \"GUBRF\",\n",
    "                \"HALKB\", \"HEKTS\", \"ISCTR\", \"ISGYO\", \"KCHOL\", \"KONTR\", \"KORDS\", \"KOZAA\", \"KOZAA\",\n",
    "                \"KOZAL\", \"KRDMD\", \"MGROS\", \"ODAS\", \"OYAKC\", \"PETKM\", \"PGSUS\", \"SAHOL\", \"SASA\",\n",
    "                \"SISE\", \"SMRTG\", \"SOKM\", \"TAVHL\", \"TCELL\", \"THYAO\", \"TKFEN\", \"TOASO\", \"TSKB\",\n",
    "                \"TTKOM\", \"TUPRS\", \"VAKBN\", \"VESTL\", \"YKBNK\"]\n",
    "\n",
    "top_1_stock = [\"THYAO\"]\n",
    "\n",
    "data_df = pd.DataFrame()\n",
    "\n",
    "for stock_symbol in top_50_stock:\n",
    "    data_technical_info = get_technical_data_as_dataframe(schema_name=\"technical\", table_name=stock_symbol)\n",
    "    data_basic_info = get_data_as_dataframe(schema_name=\"public\", table_name=stock_symbol)\n",
    "    if (data_basic_info['stock_split'] != 0).any():\n",
    "        continue\n",
    "    data_temp_df = data_technical_info.merge(data_basic_info, on=\"date\", how=\"left\")\n",
    "    data_temp_df[\"percentage\"] = data_temp_df[\"percentage\"].shift(-1)\n",
    "    data_df = pd.concat([data_df, data_temp_df]).reset_index(drop=True)\n",
    "    data_df = data_df.dropna()\n"
   ]
  },
  {
   "cell_type": "code",
   "execution_count": 73,
   "metadata": {},
   "outputs": [],
   "source": [
    "selected_columns = [\"date\", \"RSI_14\", \"STOCH_Interpretation\", \"STOCHRSI_Interpretation\", \"MACD_Interpretation\", \"ADX_Return\", \"WILLR_14\", \n",
    "                    \"CCI_14_0.015\", \"Percentage_ATR\", \"HL_Ratio_14\",\n",
    "                    \"UO_7_14_28\", \"ROC_14\", \"Bull_Power_13\", \"Bear_Power_13\", \"SMA_5_Interpretation\", \"SMA_10_Interpretation\",\n",
    "                    \"SMA_20_Interpretation\", \"SMA_50_Interpretation\",\n",
    "                    \"EMA_5_Interpretation\", \"EMA_10_Interpretation\", \"EMA_20_Interpretation\", \"EMA_50_Interpretation\",\n",
    "                    \"Classic_Pivot_Interpretation\", \"Fibonacci_Pivot_Interpretation\",\n",
    "                    \"Camarilla_Pivot_Interpretation\", \"Woodie_Pivot_Interpretation\", \"Demark_Pivot_Interpretation\", \"percentage\"]\n",
    "\n",
    "data = data_df[selected_columns]\n"
   ]
  },
  {
   "cell_type": "code",
   "execution_count": 74,
   "metadata": {},
   "outputs": [],
   "source": [
    "categoric_interpretation_columns = [\"STOCH_Interpretation\", \"STOCHRSI_Interpretation\", \"MACD_Interpretation\"]\n",
    "categoric_mapping = {\n",
    "    \"Güçlü Sat\": 1,\n",
    "    \"Sat\": 2,\n",
    "    \"Nötr\": 3,\n",
    "    \"Al\": 4,\n",
    "    \"Güçlü Al\": 5\n",
    "}\n",
    "for column in categoric_interpretation_columns:\n",
    "    data.loc[:, column] = data[column].map(categoric_mapping)\n",
    "    data[column] = data[column].astype(int)"
   ]
  },
  {
   "cell_type": "code",
   "execution_count": 75,
   "metadata": {},
   "outputs": [],
   "source": [
    "def model_evaluation(models, X, y):\n",
    "    for i, v in models:\n",
    "        #prediction = cross_val_predict(v, X, y, cv=2)\n",
    "        prediction = v.predict(X)\n",
    "        r2 = r2_score(y, prediction)\n",
    "        n = X.shape[0]  # örnek sayısı\n",
    "        p = X.shape[1]  # özellik sayısı\n",
    "        adjusted_r2 = 1 - (1 - r2) * (n - 1) / (n - p - 1)\n",
    "\n",
    "        print(f\"----------------------------- {i} Model Evaluation -----------------------------\")\n",
    "        print(\"R-Kare değeri                     : {}\".format(r2))\n",
    "        print(\"Adj. R-Kare değeri                : {}\".format(adjusted_r2))\n",
    "        print(\"Ortalama Mutlak Hata (MAE)        : {}\".format(mean_absolute_error(y, prediction)))\n",
    "        print(\"Ortalama Kare Hata (MSE)          : {}\".format(mse(y, prediction)))\n",
    "        print(\"Kök Ortalama Kare Hata (RMSE)     : {}\".format(rmse(y, prediction)))"
   ]
  },
  {
   "cell_type": "code",
   "execution_count": 76,
   "metadata": {},
   "outputs": [
    {
     "name": "stdout",
     "output_type": "stream",
     "text": [
      "----------------------------- XGBOOST Model Evaluation -----------------------------\n",
      "R-Kare değeri                     : 0.052309874310561555\n",
      "Adj. R-Kare değeri                : 0.046571648118683306\n",
      "Ortalama Mutlak Hata (MAE)        : 2.274671850085174\n",
      "Ortalama Kare Hata (MSE)          : 9.865575371943677\n",
      "Kök Ortalama Kare Hata (RMSE)     : 3.140951348229335\n"
     ]
    }
   ],
   "source": [
    "from sklearn.model_selection import train_test_split\n",
    "\n",
    "\n",
    "y = data[\"percentage\"]\n",
    "X = data.drop([\"date\", \"percentage\"], axis=1)\n",
    "\n",
    "#X_train, X_test, y_train, y_test = X.iloc[:-100, :], X.iloc[-100:, :], y[:-100], y[-100:]\n",
    "X_train, X_test, y_train, y_test = train_test_split(X, y, test_size=0.2)\n",
    "xgb_clf = xgb.XGBRegressor()\n",
    "xgb_clf.fit(X_train, y_train)\n",
    "models = []\n",
    "models.append(('XGBOOST', xgb_clf))\n",
    "model_evaluation(models, X_test, y_test)\n",
    "\n",
    "predictions = xgb_clf.predict(X)\n",
    "data[\"predictions\"] = predictions"
   ]
  },
  {
   "cell_type": "code",
   "execution_count": 51,
   "metadata": {},
   "outputs": [
    {
     "name": "stdout",
     "output_type": "stream",
     "text": [
      "Tarih: 2022-12-19, İşaret Değişimi: Pozitiften Negatife, Alınması yada satılması gereken tarih(Sabah): 2022-12-20, Açılış Değeri: 11.71609053596501, Bütçe: 10000.0, Hisseler: 0\n",
      "Tarih: 2022-12-20, İşaret Değişimi: Negatiften Pozitife, Alınması yada satılması gereken tarih(Sabah): 2022-12-21, Açılış Değeri: 11.312720073077193, Bütçe: 10.86817547283863, Hisseler: 883.0\n",
      "Tarih: 2022-12-23, İşaret Değişimi: Pozitiften Negatife, Alınması yada satılması gereken tarih(Sabah): 2022-12-24, Açılış Değeri: 11.23937922442224, Bütçe: 9935.240030637677, Hisseler: 0\n",
      "Tarih: 2022-12-26, İşaret Değişimi: Negatiften Pozitife, Alınması yada satılması gereken tarih(Sabah): 2022-12-27, Açılış Değeri: 11.092699395707767, Bütçe: 7.274071479225313, Hisseler: 895.0\n",
      "Tarih: 2023-01-03, İşaret Değişimi: Pozitiften Negatife, Alınması yada satılması gereken tarih(Sabah): 2023-01-04, Açılış Değeri: 10.82684171794405, Bütçe: 9697.29740903915, Hisseler: 0\n",
      "Tarih: 2023-01-04, İşaret Değişimi: Negatiften Pozitife, Alınması yada satılması gereken tarih(Sabah): 2023-01-05, Açılış Değeri: 10.73516524620032, Bütçe: 3.4431917202618934, Hisseler: 903.0\n",
      "Tarih: 2023-01-05, İşaret Değişimi: Pozitiften Negatife, Alınması yada satılması gereken tarih(Sabah): 2023-01-06, Açılış Değeri: 9.680900979706228, Bütçe: 8745.296776394985, Hisseler: 0\n",
      "Tarih: 2023-01-11, İşaret Değişimi: Negatiften Pozitife, Alınması yada satılması gereken tarih(Sabah): 2023-01-12, Açılış Değeri: 8.15909185360899, Bütçe: 6.909401179756969, Hisseler: 1071.0\n",
      "Tarih: 2023-01-20, İşaret Değişimi: Pozitiften Negatife, Alınması yada satılması gereken tarih(Sabah): 2023-01-21, Açılış Değeri: 9.515885452769446, Bütçe: 10198.422721095834, Hisseler: 0\n",
      "Tarih: 2023-02-02, İşaret Değişimi: Negatiften Pozitife, Alınması yada satılması gereken tarih(Sabah): 2023-02-03, Açılış Değeri: 7.627375982579165, Bütçe: 0.621032387489322, Hisseler: 1337.0\n",
      "Tarih: 2023-02-03, İşaret Değişimi: Pozitiften Negatife, Alınması yada satılması gereken tarih(Sabah): 2023-02-04, Açılış Değeri: 7.984909656610698, Bütçe: 10676.445243275994, Hisseler: 0\n",
      "Tarih: 2023-02-06, İşaret Değişimi: Negatiften Pozitife, Alınması yada satılması gereken tarih(Sabah): 2023-02-07, Açılış Değeri: 8.140757646067096, Bütçe: 3.9119692820313503, Hisseler: 1311.0\n",
      "Tarih: 2023-02-07, İşaret Değişimi: Pozitiften Negatife, Alınması yada satılması gereken tarih(Sabah): 2023-02-08, Açılış Değeri: 7.104827880859376, Bütçe: 9318.341321088674, Hisseler: 0\n",
      "Tarih: 2023-02-08, İşaret Değişimi: Negatiften Pozitife, Alınması yada satılması gereken tarih(Sabah): 2023-02-09, Açılış Değeri: 7.847397637739599, Bütçe: 3.4803250917702826, Hisseler: 1187.0\n",
      "Tarih: 2023-02-16, İşaret Değişimi: Pozitiften Negatife, Alınması yada satılması gereken tarih(Sabah): 2023-02-17, Açılış Değeri: 8.250767396617853, Bütçe: 9797.141224877161, Hisseler: 0\n",
      "Tarih: 2023-02-17, İşaret Değişimi: Negatiften Pozitife, Alınması yada satılması gereken tarih(Sabah): 2023-02-18, Açılış Değeri: 8.324107481311835, Bütçe: 7.990826854444094, Hisseler: 1176.0\n",
      "Tarih: 2023-03-06, İşaret Değişimi: Pozitiften Negatife, Alınması yada satılması gereken tarih(Sabah): 2023-03-07, Açılış Değeri: 9.937591596673075, Bütçe: 11694.59854454198, Hisseler: 0\n",
      "Tarih: 2023-03-07, İşaret Değişimi: Negatiften Pozitife, Alınması yada satılması gereken tarih(Sabah): 2023-03-08, Açılış Değeri: 9.809245882658804, Bütçe: 1.9774524126860342, Hisseler: 1192.0\n",
      "Tarih: 2023-03-13, İşaret Değişimi: Pozitiften Negatife, Alınması yada satılması gereken tarih(Sabah): 2023-03-14, Açılış Değeri: 10.221783833534248, Bütçe: 12186.34378198551, Hisseler: 0\n",
      "Tarih: 2023-03-15, İşaret Değişimi: Negatiften Pozitife, Alınması yada satılması gereken tarih(Sabah): 2023-03-16, Açılış Değeri: 10.304291742797686, Bütçe: 6.670941998645503, Hisseler: 1182.0\n",
      "Tarih: 2023-03-23, İşaret Değişimi: Pozitiften Negatife, Alınması yada satılması gereken tarih(Sabah): 2023-03-24, Açılış Değeri: 10.619999885559082, Bütçe: 12559.51080672948, Hisseler: 0\n",
      "Tarih: 2023-03-29, İşaret Değişimi: Negatiften Pozitife, Alınması yada satılması gereken tarih(Sabah): 2023-03-30, Açılış Değeri: 10.010000228881836, Bütçe: 6.9705197116581985, Hisseler: 1254.0\n",
      "Tarih: 2023-03-30, İşaret Değişimi: Pozitiften Negatife, Alınması yada satılması gereken tarih(Sabah): 2023-03-31, Açılış Değeri: 9.779999732971191, Bütçe: 12271.090184857532, Hisseler: 0\n",
      "Tarih: 2023-03-31, İşaret Değişimi: Negatiften Pozitife, Alınması yada satılması gereken tarih(Sabah): 2023-04-01, Açılış Değeri: 9.470000267028809, Bütçe: 7.439839055225093, Hisseler: 1295.0\n",
      "Tarih: 2023-04-04, İşaret Değişimi: Pozitiften Negatife, Alınması yada satılması gereken tarih(Sabah): 2023-04-05, Açılış Değeri: 9.84000015258789, Bütçe: 12750.240036656543, Hisseler: 0\n",
      "Tarih: 2023-04-06, İşaret Değişimi: Negatiften Pozitife, Alınması yada satılması gereken tarih(Sabah): 2023-04-07, Açılış Değeri: 9.680000305175781, Bütçe: 1.6796347400395462, Hisseler: 1317.0\n",
      "Tarih: 2023-04-11, İşaret Değişimi: Pozitiften Negatife, Alınması yada satılması gereken tarih(Sabah): 2023-04-12, Açılış Değeri: 10.180000305175781, Bütçe: 13408.740036656543, Hisseler: 0\n",
      "Tarih: 2023-04-12, İşaret Değişimi: Negatiften Pozitife, Alınması yada satılması gereken tarih(Sabah): 2023-04-13, Açılış Değeri: 10.460000038146973, Bütçe: 9.47998779027148, Hisseler: 1281.0\n",
      "Tarih: 2023-04-19, İşaret Değişimi: Pozitiften Negatife, Alınması yada satılması gereken tarih(Sabah): 2023-04-20, Açılış Değeri: 10.270000457763672, Bütçe: 13165.350574185535, Hisseler: 0\n",
      "Tarih: 2023-04-24, İşaret Değişimi: Negatiften Pozitife, Alınması yada satılması gereken tarih(Sabah): 2023-04-25, Açılış Değeri: 10.149999618530273, Bütçe: 0.8010689517705032, Hisseler: 1297.0\n",
      "Tarih: 2023-04-25, İşaret Değişimi: Pozitiften Negatife, Alınması yada satılması gereken tarih(Sabah): 2023-04-26, Açılış Değeri: 9.859999656677246, Bütçe: 12789.220623662159, Hisseler: 0\n",
      "Tarih: 2023-04-27, İşaret Değişimi: Negatiften Pozitife, Alınması yada satılması gereken tarih(Sabah): 2023-04-28, Açılış Değeri: 9.960000038146973, Bütçe: 0.5805746814457962, Hisseler: 1284.0\n",
      "Tarih: 2023-05-02, İşaret Değişimi: Pozitiften Negatife, Alınması yada satılması gereken tarih(Sabah): 2023-05-03, Açılış Değeri: 9.380000114440918, Bütçe: 12044.500721623584, Hisseler: 0\n",
      "Tarih: 2023-05-08, İşaret Değişimi: Negatiften Pozitife, Alınması yada satılması gereken tarih(Sabah): 2023-05-09, Açılış Değeri: 9.850000381469727, Bütçe: 7.800255467578609, Hisseler: 1222.0\n",
      "12044.500721623584\n"
     ]
    }
   ],
   "source": [
    "def strategy(data):\n",
    "    BUDGET = 10000\n",
    "    stocks = 0\n",
    "    # İşaret değişimlerini ve ilgili tarihleri saklamak için boş bir liste oluşturma\n",
    "    sign_changes = []\n",
    "    data = data.reset_index()\n",
    "    # İlk satırdan başlayarak her satırı kontrol etme\n",
    "    for i in range(1, len(data)):\n",
    "        try:\n",
    "            current_pred = data.loc[i, 'predictions']\n",
    "            previous_pred = data.loc[i - 1, 'predictions']\n",
    "            \n",
    "            # İşaret değişimi kontrolü\n",
    "            if (current_pred > 0 and previous_pred < 0) or (current_pred < 0 and previous_pred > 0):\n",
    "                date = data.loc[i, 'date']\n",
    "                change_type = 'Negatiften Pozitife' if current_pred > 0 else 'Pozitiften Negatife'\n",
    "                real_date = date + timedelta(days=1)\n",
    "                open_value = data.loc[i+1, 'open']\n",
    "\n",
    "                if change_type == 'Negatiften Pozitife':\n",
    "                    stocks_to_buy = BUDGET // open_value\n",
    "                    stocks += stocks_to_buy\n",
    "                    BUDGET -= stocks_to_buy * open_value\n",
    "\n",
    "                elif change_type == 'Pozitiften Negatife':\n",
    "                    BUDGET += stocks * open_value\n",
    "                    stocks = 0\n",
    "\n",
    "                sign_changes.append((date, change_type, real_date, open_value, BUDGET, stocks))\n",
    "        except:\n",
    "            pass\n",
    "\n",
    "    # İşaret değişimlerini ve ilgili tarihleri yazdırma\n",
    "    for change in sign_changes:\n",
    "        print(f\"Tarih: {change[0]}, İşaret Değişimi: {change[1]}, Alınması yada satılması gereken tarih(Sabah): {change[2]}, Açılış Değeri: {change[3]}, Bütçe: {change[4]}, Hisseler: {change[5]}\")\n",
    "\n",
    "    return sign_changes[-1][4] + sign_changes[-1][5] * sign_changes[-1][3]\n",
    "\n",
    "\n",
    "predictions = xgb_clf.predict(X)\n",
    "data_df[\"predictions\"] = predictions\n",
    "\n",
    "BUDGET = strategy(data_df.iloc[-100:, :])\n",
    "print(BUDGET)\n"
   ]
  },
  {
   "cell_type": "code",
   "execution_count": 47,
   "metadata": {},
   "outputs": [],
   "source": [
    "observation = data[[\"date\", \"percentage\", \"predictions\"]].iloc[-100:,:]"
   ]
  },
  {
   "cell_type": "code",
   "execution_count": 72,
   "metadata": {},
   "outputs": [],
   "source": [
    "import pickle\n",
    "\n",
    "filename = './app/ml_models/general_ml.pkl'\n",
    "pickle.dump(xgb_clf, open(filename, 'wb'))"
   ]
  },
  {
   "cell_type": "code",
   "execution_count": 65,
   "metadata": {},
   "outputs": [
    {
     "name": "stdout",
     "output_type": "stream",
     "text": [
      "RSI_14, STOCH_Interpretation, STOCHRSI_Interpretation, MACD_Interpretation, ADX_Return, WILLR_14, CCI_14_0.015, Percentage_ATR, HL_Ratio_14, UO_7_14_28, ROC_14, Bull_Power_13, Bear_Power_13, SMA_5_Interpretation, SMA_10_Interpretation, SMA_20_Interpretation, SMA_50_Interpretation, EMA_5_Interpretation, EMA_10_Interpretation, EMA_20_Interpretation, EMA_50_Interpretation, Classic_Pivot_Interpretation, Fibonacci_Pivot_Interpretation, Camarilla_Pivot_Interpretation, Woodie_Pivot_Interpretation, Demark_Pivot_Interpretation, "
     ]
    }
   ],
   "source": [
    "for i in X_train.columns.values:\n",
    "    print(i, end=\", \")"
   ]
  }
 ],
 "metadata": {
  "kernelspec": {
   "display_name": "finance",
   "language": "python",
   "name": "python3"
  },
  "language_info": {
   "codemirror_mode": {
    "name": "ipython",
    "version": 3
   },
   "file_extension": ".py",
   "mimetype": "text/x-python",
   "name": "python",
   "nbconvert_exporter": "python",
   "pygments_lexer": "ipython3",
   "version": "3.8.16"
  },
  "orig_nbformat": 4
 },
 "nbformat": 4,
 "nbformat_minor": 2
}
