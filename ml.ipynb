{
 "cells": [
  {
   "cell_type": "code",
   "execution_count": 13,
   "metadata": {},
   "outputs": [],
   "source": [
    "from datetime import datetime, timedelta\n",
    "import pandas as pd\n",
    "import xgboost as xgb\n",
    "from statsmodels.tools.eval_measures import mse, rmse\n",
    "from sklearn.metrics import r2_score, mean_absolute_error\n",
    "import numpy as np\n",
    "from sklearn.model_selection import cross_val_predict\n",
    "\n",
    "from app.services.dataframe_service import get_technical_data_as_dataframe, get_data_as_dataframe"
   ]
  },
  {
   "cell_type": "code",
   "execution_count": 14,
   "metadata": {},
   "outputs": [],
   "source": [
    "today = datetime.today().strftime(\"%Y-%m-%d\")\n",
    "\n",
    "top_50_stock = [\"AEFES\", \"AKBNK\", \"AKSA\", \"AKSEN\", \"ALARK\", \"ARCLK\", \"ASELS\", \"BERA\", \"BIMAS\", \"DOHOL\",\n",
    "                \"EGEEN\", \"EKGYO\", \"ENJSA\", \"ENKAI\", \"EREGL\", \"FROTO\", \"GARAN\", \"GESAN\", \"GUBRF\",\n",
    "                \"HALKB\", \"HEKTS\", \"ISCTR\", \"ISGYO\", \"KCHOL\", \"KONTR\", \"KORDS\", \"KOZAA\", \"KOZAA\",\n",
    "                \"KOZAL\", \"KRDMD\", \"MGROS\", \"ODAS\", \"OYAKC\", \"PETKM\", \"PGSUS\", \"SAHOL\", \"SASA\",\n",
    "                \"SISE\", \"SMRTG\", \"SOKM\", \"TAVHL\", \"TCELL\", \"THYAO\", \"TKFEN\", \"TOASO\", \"TSKB\",\n",
    "                \"TTKOM\", \"TUPRS\", \"VAKBN\", \"VESTL\", \"YKBNK\"]\n",
    "\n",
    "top_1_stock = [\"THYAO\"]\n",
    "\n",
    "for stock_symbol in top_1_stock:\n",
    "    data_technical_info = get_technical_data_as_dataframe(schema_name=\"technical\", table_name=stock_symbol)\n",
    "    data_basic_info = get_data_as_dataframe(schema_name=\"public\", table_name=stock_symbol)"
   ]
  },
  {
   "cell_type": "code",
   "execution_count": 15,
   "metadata": {},
   "outputs": [],
   "source": [
    "data_df = data_technical_info.merge(data_basic_info, on=\"date\", how=\"left\")\n",
    "data_df[\"percentage\"] = data_df[\"percentage\"].shift(-1)\n",
    "data_df = data_df.dropna()"
   ]
  },
  {
   "cell_type": "code",
   "execution_count": 16,
   "metadata": {},
   "outputs": [],
   "source": [
    "selected_columns = [\"date\", \"RSI_14\", \"STOCHk_9_6_3\", \"STOCHd_9_6_3\", \"stoch_diff\", \"STOCHRSIk_14_14_3_3\", \"MACD_12_26_9\", \"MACDh_12_26_9\",\n",
    "                    \"MACDs_12_26_9\", \"ADX_14\", \"DMP_14\", \"DMN_14\", \"WILLR_14\", \"CCI_14_0.015\", \"ATRr_14\", \"hl_ratio_14\",\n",
    "                    \"UO_7_14_28\", \"ROC_14\", \"Bull_power_13\", \"Bear_power_13\", \"SMA_interpretation_5\", \"SMA_interpretation_10\",\n",
    "                    \"SMA_interpretation_20\", \"SMA_interpretation_50\",\n",
    "                    \"EMA_interpretation_5\", \"EMA_interpretation_10\", \"EMA_interpretation_20\", \"EMA_interpretation_50\",\n",
    "                    \"classic_pivot_interpretation\", \"fibonacci_pivot_interpretation\",\n",
    "                    \"camarilla_pivot_interpretation\", \"woodie_pivot_interpretation\", \"demark_pivot_interpretation\", \"percentage\"]\n",
    "\n",
    "data = data_df[selected_columns]\n"
   ]
  },
  {
   "cell_type": "code",
   "execution_count": 17,
   "metadata": {},
   "outputs": [],
   "source": [
    "interpretation_columns = [col for col in data.columns if 'interpretation' in col]\n",
    "for column in interpretation_columns:\n",
    "    dummies = pd.get_dummies(data[column], prefix=column)\n",
    "    data = pd.concat([data, dummies], axis=1)\n",
    "    data.drop(column, axis=1, inplace=True)"
   ]
  },
  {
   "cell_type": "code",
   "execution_count": 18,
   "metadata": {},
   "outputs": [],
   "source": [
    "def model_evaluation(models, X, y):\n",
    "    for i, v in models:\n",
    "        #prediction = cross_val_predict(v, X, y, cv=2)\n",
    "        prediction = v.predict(X)\n",
    "        r2 = r2_score(y, prediction)\n",
    "        n = X.shape[0]  # örnek sayısı\n",
    "        p = X.shape[1]  # özellik sayısı\n",
    "        adjusted_r2 = 1 - (1 - r2) * (n - 1) / (n - p - 1)\n",
    "\n",
    "        print(f\"----------------------------- {i} Model Evaluation -----------------------------\")\n",
    "        print(\"R-Kare değeri                     : {}\".format(r2))\n",
    "        print(\"Adj. R-Kare değeri                : {}\".format(adjusted_r2))\n",
    "        print(\"Ortalama Mutlak Hata (MAE)        : {}\".format(mean_absolute_error(y, prediction)))\n",
    "        print(\"Ortalama Kare Hata (MSE)          : {}\".format(mse(y, prediction)))\n",
    "        print(\"Kök Ortalama Kare Hata (RMSE)     : {}\".format(rmse(y, prediction)))"
   ]
  },
  {
   "cell_type": "code",
   "execution_count": 19,
   "metadata": {},
   "outputs": [
    {
     "name": "stdout",
     "output_type": "stream",
     "text": [
      "----------------------------- XGBOOST Model Evaluation -----------------------------\n",
      "R-Kare değeri                     : -0.6225246295026587\n",
      "Adj. R-Kare değeri                : -4.0196855725238505\n",
      "Ortalama Mutlak Hata (MAE)        : 3.5155982272546296\n",
      "Ortalama Kare Hata (MSE)          : 22.40130450206773\n",
      "Kök Ortalama Kare Hata (RMSE)     : 4.73300163765741\n"
     ]
    }
   ],
   "source": [
    "y = data[\"percentage\"]\n",
    "X = data.drop([\"date\", \"percentage\"], axis=1)\n",
    "\n",
    "X_train, X_test, y_train, y_test = X.iloc[:-100, :], X.iloc[-100:, :], y[:-100], y[-100:]\n",
    "\n",
    "xgb_clf = xgb.XGBRegressor()\n",
    "xgb_clf.fit(X_train, y_train)\n",
    "models = []\n",
    "models.append(('XGBOOST', xgb_clf))\n",
    "model_evaluation(models, X_test, y_test)\n",
    "\n",
    "predictions = xgb_clf.predict(X)\n",
    "data[\"predictions\"] = predictions"
   ]
  },
  {
   "cell_type": "code",
   "execution_count": 20,
   "metadata": {},
   "outputs": [
    {
     "name": "stdout",
     "output_type": "stream",
     "text": [
      "Tarih: 2022-12-09, İşaret Değişimi: Pozitiften Negatife, Alınması yada satılması gereken tarih(Sabah): 2022-12-10, Açılış Değeri: 142.5, Bütçe: 10000.0, Hisseler: 0\n",
      "Tarih: 2022-12-13, İşaret Değişimi: Negatiften Pozitife, Alınması yada satılması gereken tarih(Sabah): 2022-12-14, Açılış Değeri: 144.1999969482422, Bütçe: 50.20021057128906, Hisseler: 69.0\n",
      "Tarih: 2022-12-14, İşaret Değişimi: Pozitiften Negatife, Alınması yada satılması gereken tarih(Sabah): 2022-12-15, Açılış Değeri: 140.60000610351562, Bütçe: 9751.600631713867, Hisseler: 0\n",
      "Tarih: 2022-12-20, İşaret Değişimi: Negatiften Pozitife, Alınması yada satılması gereken tarih(Sabah): 2022-12-21, Açılış Değeri: 146.3000030517578, Bütçe: 95.80043029785156, Hisseler: 66.0\n",
      "Tarih: 2022-12-23, İşaret Değişimi: Pozitiften Negatife, Alınması yada satılması gereken tarih(Sabah): 2022-12-24, Açılış Değeri: 143.3000030517578, Bütçe: 9553.600631713867, Hisseler: 0\n",
      "Tarih: 2022-12-28, İşaret Değişimi: Negatiften Pozitife, Alınması yada satılması gereken tarih(Sabah): 2022-12-29, Açılış Değeri: 140.1999969482422, Bütçe: 20.000839233398438, Hisseler: 68.0\n",
      "Tarih: 2022-12-29, İşaret Değişimi: Pozitiften Negatife, Alınması yada satılması gereken tarih(Sabah): 2022-12-30, Açılış Değeri: 142.6999969482422, Bütçe: 9723.600631713867, Hisseler: 0\n",
      "Tarih: 2022-12-30, İşaret Değişimi: Negatiften Pozitife, Alınması yada satılması gereken tarih(Sabah): 2022-12-31, Açılış Değeri: 142.39999389648438, Bütçe: 40.40104675292969, Hisseler: 68.0\n",
      "Tarih: 2023-01-02, İşaret Değişimi: Pozitiften Negatife, Alınması yada satılması gereken tarih(Sabah): 2023-01-03, Açılış Değeri: 148.3000030517578, Bütçe: 10124.801254272461, Hisseler: 0\n",
      "Tarih: 2023-01-03, İşaret Değişimi: Negatiften Pozitife, Alınması yada satılması gereken tarih(Sabah): 2023-01-04, Açılış Değeri: 147.89999389648438, Bütçe: 67.60166931152344, Hisseler: 68.0\n",
      "Tarih: 2023-01-06, İşaret Değişimi: Pozitiften Negatife, Alınması yada satılması gereken tarih(Sabah): 2023-01-07, Açılış Değeri: 143.6999969482422, Bütçe: 9839.201461791992, Hisseler: 0\n",
      "Tarih: 2023-01-09, İşaret Değişimi: Negatiften Pozitife, Alınması yada satılması gereken tarih(Sabah): 2023-01-10, Açılış Değeri: 138.10000610351562, Bütçe: 34.10102844238281, Hisseler: 71.0\n",
      "Tarih: 2023-01-13, İşaret Değişimi: Pozitiften Negatife, Alınması yada satılması gereken tarih(Sabah): 2023-01-14, Açılış Değeri: 135.8000030517578, Bütçe: 9675.901245117188, Hisseler: 0\n",
      "Tarih: 2023-01-17, İşaret Değişimi: Negatiften Pozitife, Alınması yada satılması gereken tarih(Sabah): 2023-01-18, Açılış Değeri: 148.1999969482422, Bütçe: 42.90144348144531, Hisseler: 65.0\n",
      "Tarih: 2023-01-25, İşaret Değişimi: Pozitiften Negatife, Alınması yada satılması gereken tarih(Sabah): 2023-01-26, Açılış Değeri: 152.10000610351562, Bütçe: 9929.401840209961, Hisseler: 0\n",
      "Tarih: 2023-01-26, İşaret Değişimi: Negatiften Pozitife, Alınması yada satılması gereken tarih(Sabah): 2023-01-27, Açılış Değeri: 149.8000030517578, Bütçe: 42.60163879394531, Hisseler: 66.0\n",
      "Tarih: 2023-01-27, İşaret Değişimi: Pozitiften Negatife, Alınması yada satılması gereken tarih(Sabah): 2023-01-28, Açılış Değeri: 150.0, Bütçe: 9942.601638793945, Hisseler: 0\n",
      "Tarih: 2023-01-31, İşaret Değişimi: Negatiften Pozitife, Alınması yada satılması gereken tarih(Sabah): 2023-02-01, Açılış Değeri: 139.10000610351562, Bütçe: 66.50120544433594, Hisseler: 71.0\n",
      "Tarih: 2023-02-03, İşaret Değişimi: Pozitiften Negatife, Alınması yada satılması gereken tarih(Sabah): 2023-02-04, Açılış Değeri: 139.39999389648438, Bütçe: 9963.900772094727, Hisseler: 0\n",
      "Tarih: 2023-02-07, İşaret Değişimi: Negatiften Pozitife, Alınması yada satılması gereken tarih(Sabah): 2023-02-08, Açılış Değeri: 115.0, Bütçe: 73.90077209472656, Hisseler: 86.0\n",
      "Tarih: 2023-04-26, İşaret Değişimi: Pozitiften Negatife, Alınması yada satılması gereken tarih(Sabah): 2023-04-27, Açılış Değeri: 129.6999969482422, Bütçe: 11228.100509643555, Hisseler: 0\n",
      "Tarih: 2023-04-28, İşaret Değişimi: Negatiften Pozitife, Alınması yada satılması gereken tarih(Sabah): 2023-04-29, Açılış Değeri: 128.3000030517578, Bütçe: 66.000244140625, Hisseler: 87.0\n",
      "11228.100509643555\n"
     ]
    }
   ],
   "source": [
    "def strategy(data):\n",
    "    BUDGET = 10000\n",
    "    stocks = 0\n",
    "    # İşaret değişimlerini ve ilgili tarihleri saklamak için boş bir liste oluşturma\n",
    "    sign_changes = []\n",
    "    data = data.reset_index()\n",
    "    # İlk satırdan başlayarak her satırı kontrol etme\n",
    "    for i in range(1, len(data)):\n",
    "        try:\n",
    "            current_pred = data.loc[i, 'predictions']\n",
    "            previous_pred = data.loc[i - 1, 'predictions']\n",
    "            \n",
    "            # İşaret değişimi kontrolü\n",
    "            if (current_pred > 0 and previous_pred < 0) or (current_pred < 0 and previous_pred > 0):\n",
    "                date = data.loc[i, 'date']\n",
    "                change_type = 'Negatiften Pozitife' if current_pred > 0 else 'Pozitiften Negatife'\n",
    "                real_date = date + timedelta(days=1)\n",
    "                open_value = data.loc[i+1, 'open']\n",
    "\n",
    "                if change_type == 'Negatiften Pozitife':\n",
    "                    stocks_to_buy = BUDGET // open_value\n",
    "                    stocks += stocks_to_buy\n",
    "                    BUDGET -= stocks_to_buy * open_value\n",
    "\n",
    "                elif change_type == 'Pozitiften Negatife':\n",
    "                    BUDGET += stocks * open_value\n",
    "                    stocks = 0\n",
    "\n",
    "                sign_changes.append((date, change_type, real_date, open_value, BUDGET, stocks))\n",
    "        except:\n",
    "            pass\n",
    "\n",
    "    # İşaret değişimlerini ve ilgili tarihleri yazdırma\n",
    "    for change in sign_changes:\n",
    "        print(f\"Tarih: {change[0]}, İşaret Değişimi: {change[1]}, Alınması yada satılması gereken tarih(Sabah): {change[2]}, Açılış Değeri: {change[3]}, Bütçe: {change[4]}, Hisseler: {change[5]}\")\n",
    "\n",
    "    return sign_changes[-1][4] + sign_changes[-1][5] * sign_changes[-1][3]\n",
    "\n",
    "\n",
    "predictions = xgb_clf.predict(X)\n",
    "data_df[\"predictions\"] = predictions\n",
    "\n",
    "BUDGET = strategy(data_df.iloc[-100:, :])\n",
    "print(BUDGET)\n"
   ]
  },
  {
   "cell_type": "code",
   "execution_count": null,
   "metadata": {},
   "outputs": [],
   "source": [
    "\n",
    "\"\"\"data[\"predictions\"] = predictions\n",
    "data[\"preds\"] = preds\n",
    "print(data[[\"percentage\", \"predictions\", \"preds\"]])\"\"\""
   ]
  },
  {
   "cell_type": "code",
   "execution_count": 9,
   "metadata": {},
   "outputs": [],
   "source": [
    "import pickle\n",
    "\n",
    "filename = './app/ml_models/test.pkl'\n",
    "pickle.dump(xgb_clf, open(filename, 'wb'))"
   ]
  },
  {
   "cell_type": "code",
   "execution_count": 12,
   "metadata": {},
   "outputs": [
    {
     "data": {
      "text/plain": [
       "Index(['RSI_14', 'STOCHk_9_6_3', 'STOCHd_9_6_3', 'stoch_diff',\n",
       "       'STOCHRSIk_14_14_3_3', 'MACD_12_26_9', 'MACDh_12_26_9', 'MACDs_12_26_9',\n",
       "       'ADX_14', 'DMP_14', 'DMN_14', 'WILLR_14', 'CCI_14_0.015', 'ATRr_14',\n",
       "       'hl_ratio_14', 'UO_7_14_28', 'ROC_14', 'Bull_power_13', 'Bear_power_13',\n",
       "       'SMA_interpretation_5_Al', 'SMA_interpretation_5_Güçlü Al',\n",
       "       'SMA_interpretation_5_Güçlü Sat', 'SMA_interpretation_5_Nötr',\n",
       "       'SMA_interpretation_10_Al', 'SMA_interpretation_10_Güçlü Al',\n",
       "       'SMA_interpretation_10_Güçlü Sat', 'SMA_interpretation_10_Nötr',\n",
       "       'SMA_interpretation_20_Al', 'SMA_interpretation_20_Güçlü Al',\n",
       "       'SMA_interpretation_20_Güçlü Sat', 'SMA_interpretation_20_Nötr',\n",
       "       'SMA_interpretation_50_Al', 'SMA_interpretation_50_Güçlü Al',\n",
       "       'SMA_interpretation_50_Güçlü Sat', 'SMA_interpretation_50_Nötr',\n",
       "       'EMA_interpretation_5_Al', 'EMA_interpretation_5_Güçlü Al',\n",
       "       'EMA_interpretation_5_Güçlü Sat', 'EMA_interpretation_5_Nötr',\n",
       "       'EMA_interpretation_10_Al', 'EMA_interpretation_10_Güçlü Al',\n",
       "       'EMA_interpretation_10_Güçlü Sat', 'EMA_interpretation_10_Nötr',\n",
       "       'EMA_interpretation_20_Al', 'EMA_interpretation_20_Güçlü Al',\n",
       "       'EMA_interpretation_20_Güçlü Sat', 'EMA_interpretation_20_Nötr',\n",
       "       'EMA_interpretation_50_Al', 'EMA_interpretation_50_Güçlü Al',\n",
       "       'EMA_interpretation_50_Güçlü Sat', 'EMA_interpretation_50_Nötr',\n",
       "       'classic_pivot_interpretation_Güçlü Sat',\n",
       "       'classic_pivot_interpretation_Zayıf Al',\n",
       "       'classic_pivot_interpretation_Zayıf Sat',\n",
       "       'fibonacci_pivot_interpretation_Güçlü Sat',\n",
       "       'fibonacci_pivot_interpretation_Zayıf Al',\n",
       "       'fibonacci_pivot_interpretation_Zayıf Sat',\n",
       "       'camarilla_pivot_interpretation_Güçlü Sat',\n",
       "       'camarilla_pivot_interpretation_Zayıf Al',\n",
       "       'camarilla_pivot_interpretation_Zayıf Sat',\n",
       "       'woodie_pivot_interpretation_Güçlü Sat',\n",
       "       'woodie_pivot_interpretation_Zayıf Al',\n",
       "       'woodie_pivot_interpretation_Zayıf Sat',\n",
       "       'demark_pivot_interpretation_Al', 'demark_pivot_interpretation_Sat',\n",
       "       'demark_pivot_interpretation_Zayıf Al',\n",
       "       'demark_pivot_interpretation_Zayıf Sat'],\n",
       "      dtype='object')"
      ]
     },
     "execution_count": 12,
     "metadata": {},
     "output_type": "execute_result"
    }
   ],
   "source": [
    "X.columns"
   ]
  },
  {
   "cell_type": "code",
   "execution_count": null,
   "metadata": {},
   "outputs": [],
   "source": []
  }
 ],
 "metadata": {
  "kernelspec": {
   "display_name": "finance",
   "language": "python",
   "name": "python3"
  },
  "language_info": {
   "codemirror_mode": {
    "name": "ipython",
    "version": 3
   },
   "file_extension": ".py",
   "mimetype": "text/x-python",
   "name": "python",
   "nbconvert_exporter": "python",
   "pygments_lexer": "ipython3",
   "version": "3.8.16"
  },
  "orig_nbformat": 4
 },
 "nbformat": 4,
 "nbformat_minor": 2
}
